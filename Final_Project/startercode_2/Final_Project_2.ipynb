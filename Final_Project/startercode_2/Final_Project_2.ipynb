{
 "cells": [
  {
   "cell_type": "code",
   "execution_count": 2,
   "metadata": {
    "collapsed": false
   },
   "outputs": [],
   "source": [
    "#imports\n",
    "from __future__ import division\n",
    "import pandas as pd\n",
    "import numpy as np\n",
    "import matplotlib.pyplot as plt\n",
    "import statsmodels.api as sm\n",
    "import pylab as pl\n",
    "import numpy as np\n",
    "%matplotlib inline"
   ]
  },
  {
   "cell_type": "markdown",
   "metadata": {},
   "source": [
    "Contaminated water can have many adverse health effects such as developmental effects to fetuses during pregnancy or to breastfed infants, kidney cancer, liver effects, immune effects, and thyroid effects. It is difficult to predict what may be causing the amount of days during which an area is under a contamination advisory. \n",
    "\n",
    "Data provided by the US Environmental Protection Agency includes data about each counties' water, land and population. There are many factors that may predict the amount of days per contamination advisory event, and first I will be determining if the number (in pounds) of herbicides, insecticides and fungicides applied has an affect on the amount of days per contamination advisory event. I will also go on to determine what other factors may predict contamination advisories, in order to find the most predictive feature. The objective here is to determine which of the features (either alone or combined) represented in this data set can most accurately predict the amount of days per contamination advisory. I will therefore be predicting a continuous number. \n",
    "\n",
    "While I do not have any direct experience working with water contamination issues, I am very interested in the ways we can improve the cleanliness of our water since it can affect huge populations. Research in this field often looks at storm water runoff which has been shown to increase water contamination since the land carries bacteria from sewage that can be carried into the water. The type of work done in a certain area can also have an impact on contamination, in that mining activities and burning fossil fuels can lead to acid rain. This data set includes features that show what percent of the population works in a particular industry, and it also includes the amount of chemicals present in a particular area's rainfall. \n",
    "\n",
    "The names of the features are convolted so I will need to rename the features that I want to work with. Also, some of the data was already log and or natural log transformed so I need to determine if this is an issue. I would also like to look at the relationships discussed in a statewide manner rather than just on an individual county level. \n",
    "\n",
    "One of the assumptions that I am making with this data is that the sampled population is representative of the true population. I have to assume this because I did not collect the data and I do not currently have the methods that were used to collect the data (but I can research this). Since this data was collected in 2005, I am assuming that 2005 was a year that is representative of all other years. However, something unknown may have happened this year that caused it to present abnormal data. \n",
    "\n",
    "I will consider this project a success if I am able to visualize a significant relationship (p-value < .05) between my features and the dependent variable (days per contamination event). I hope to find a combination of features that will predict the outcome more than any of the individual features. The features I will investigate besides pesticides will be the number of sewage permits per 1000km stream length, number of days per rain advisory event, mg/L of sulfates and nitrates present in the rainfall, acres irrigated per county acres (percentage), and proportion of all roads that are highways or secondary roads. \n",
    "\n",
    "Some of my first steps:\n",
    "\n",
    "1. Visualize the relationship between the features and the response with scatterplots \n",
    "2. Find out how strong the relationships are \n",
    "3. Use cross validation to find a mean MSE and R2 for the model \n",
    "4. Use lasso and ridge regularization \n",
    "5. use grid search to find best alphas \n",
    "4. Use the model for prediction \n",
    "3. Find p-values for the relationships "
   ]
  },
  {
   "cell_type": "code",
   "execution_count": 3,
   "metadata": {
    "collapsed": false
   },
   "outputs": [
    {
     "name": "stdout",
     "output_type": "stream",
     "text": [
      "   stfips     county_name state  fips  cat_rucc  a_teca_ln  a_112tca_ln  \\\n",
      "0    1001  Autauga County    AL  1001         1  -4.385941    -5.052391   \n",
      "1    1003  Baldwin County    AL  1003         2  -4.385456   -14.249940   \n",
      "2    1005  Barbour County    AL  1005         3  -4.943471   -10.852820   \n",
      "3    1007     Bibb County    AL  1007         1  -5.952906    -9.329214   \n",
      "4    1009   Blount County    AL  1009         1  -5.251164   -14.007340   \n",
      "\n",
      "   a_dbcp_ln  a_tdi_ln  a_2clacephen_ln        ...         med_hh_value  \\\n",
      "0  -13.61030 -8.087206        -31.70556        ...                94800   \n",
      "1  -13.61030 -8.208811        -16.06089        ...               122500   \n",
      "2  -13.53285 -9.421164        -31.70556        ...                68600   \n",
      "3  -13.61030 -9.428741        -16.09672        ...                74600   \n",
      "4  -13.61030 -8.590843        -16.15294        ...                86800   \n",
      "\n",
      "   med_hh_inc  pct_pers_lt_pov  pct_no_eng  pct_hs_more  pct_unemp  med_rooms  \\\n",
      "0       42013             10.9         2.8         78.7        4.9        5.8   \n",
      "1       40250             10.1         4.0         82.0        4.3        5.3   \n",
      "2       25101             26.8         3.6         64.7        5.7        5.3   \n",
      "3       31420             20.6         1.8         63.2        6.2        5.4   \n",
      "4       35241             11.7         5.6         70.4        4.8        5.5   \n",
      "\n",
      "   work_out_co  pct_mt_10units_log  violent_rate_log  \n",
      "0         60.3            0.300105          6.067441  \n",
      "1         27.3            2.521721          6.185848  \n",
      "2         16.5           -0.051293          5.844631  \n",
      "3         59.4            0.717840          6.225608  \n",
      "4         59.7           -0.287682          1.186318  \n",
      "\n",
      "[5 rows x 227 columns]\n"
     ]
    }
   ],
   "source": [
    "data = pd.read_csv(\"../dataset/EQIDATA_ALL_DOMAINS_2014MARCH11.csv\")\n",
    "print data.head()"
   ]
  },
  {
   "cell_type": "code",
   "execution_count": 4,
   "metadata": {
    "collapsed": false
   },
   "outputs": [
    {
     "data": {
      "text/plain": [
       "Index([u'stfips', u'county_name', u'state', u'fips', u'cat_rucc', u'a_teca_ln',\n",
       "       u'a_112tca_ln', u'a_dbcp_ln', u'a_tdi_ln', u'a_2clacephen_ln',\n",
       "       ...\n",
       "       u'med_hh_value', u'med_hh_inc', u'pct_pers_lt_pov', u'pct_no_eng',\n",
       "       u'pct_hs_more', u'pct_unemp', u'med_rooms', u'work_out_co',\n",
       "       u'pct_mt_10units_log', u'violent_rate_log'],\n",
       "      dtype='object', length=227)"
      ]
     },
     "execution_count": 4,
     "metadata": {},
     "output_type": "execute_result"
    }
   ],
   "source": [
    "data.columns"
   ]
  },
  {
   "cell_type": "code",
   "execution_count": 5,
   "metadata": {
    "collapsed": false
   },
   "outputs": [
    {
     "data": {
      "text/plain": [
       "(3141, 227)"
      ]
     },
     "execution_count": 5,
     "metadata": {},
     "output_type": "execute_result"
    }
   ],
   "source": [
    "data.shape"
   ]
  },
  {
   "cell_type": "code",
   "execution_count": null,
   "metadata": {
    "collapsed": true
   },
   "outputs": [],
   "source": [
    "\n",
    "fig, axs = plt.subplots(1, 3, sharey=True)\n",
    "data.plot(kind='scatter', x='', y='Sales', ax=axs[0], figsize=(16, 8))\n",
    "data.plot(kind='scatter', x='Radio', y='Sales', ax=axs[1])\n",
    "data.plot(kind='scatter', x='Newspaper', y='Sales', ax=axs[2])"
   ]
  },
  {
   "cell_type": "code",
   "execution_count": 7,
   "metadata": {
    "collapsed": false
   },
   "outputs": [
    {
     "name": "stdout",
     "output_type": "stream",
     "text": [
      "0\n"
     ]
    }
   ],
   "source": [
    "print data['county_name'].isnull().sum()"
   ]
  },
  {
   "cell_type": "code",
   "execution_count": 15,
   "metadata": {
    "collapsed": false
   },
   "outputs": [
    {
     "name": "stdout",
     "output_type": "stream",
     "text": [
      "0\n"
     ]
    }
   ],
   "source": [
    "print data['insecticides_ln'].isnull().sum()"
   ]
  },
  {
   "cell_type": "code",
   "execution_count": 16,
   "metadata": {
    "collapsed": false
   },
   "outputs": [
    {
     "name": "stdout",
     "output_type": "stream",
     "text": [
      "0\n"
     ]
    }
   ],
   "source": [
    "print data['herbicides_ln'].isnull().sum()"
   ]
  },
  {
   "cell_type": "code",
   "execution_count": 17,
   "metadata": {
    "collapsed": false
   },
   "outputs": [
    {
     "ename": "KeyError",
     "evalue": "'numDays_Cont_Activity_tot'",
     "output_type": "error",
     "traceback": [
      "\u001b[0;31m---------------------------------------------------------------------------\u001b[0m",
      "\u001b[0;31mKeyError\u001b[0m                                  Traceback (most recent call last)",
      "\u001b[0;32m<ipython-input-17-531955184e4f>\u001b[0m in \u001b[0;36m<module>\u001b[0;34m()\u001b[0m\n\u001b[0;32m----> 1\u001b[0;31m \u001b[0;32mprint\u001b[0m \u001b[0mdata\u001b[0m\u001b[0;34m[\u001b[0m\u001b[0;34m'numDays_Cont_Activity_tot'\u001b[0m\u001b[0;34m]\u001b[0m\u001b[0;34m.\u001b[0m\u001b[0misnull\u001b[0m\u001b[0;34m(\u001b[0m\u001b[0;34m)\u001b[0m\u001b[0;34m.\u001b[0m\u001b[0msum\u001b[0m\u001b[0;34m(\u001b[0m\u001b[0;34m)\u001b[0m\u001b[0;34m\u001b[0m\u001b[0m\n\u001b[0m",
      "\u001b[0;32m/anaconda/lib/python2.7/site-packages/pandas/core/frame.pyc\u001b[0m in \u001b[0;36m__getitem__\u001b[0;34m(self, key)\u001b[0m\n\u001b[1;32m   2057\u001b[0m             \u001b[0;32mreturn\u001b[0m \u001b[0mself\u001b[0m\u001b[0;34m.\u001b[0m\u001b[0m_getitem_multilevel\u001b[0m\u001b[0;34m(\u001b[0m\u001b[0mkey\u001b[0m\u001b[0;34m)\u001b[0m\u001b[0;34m\u001b[0m\u001b[0m\n\u001b[1;32m   2058\u001b[0m         \u001b[0;32melse\u001b[0m\u001b[0;34m:\u001b[0m\u001b[0;34m\u001b[0m\u001b[0m\n\u001b[0;32m-> 2059\u001b[0;31m             \u001b[0;32mreturn\u001b[0m \u001b[0mself\u001b[0m\u001b[0;34m.\u001b[0m\u001b[0m_getitem_column\u001b[0m\u001b[0;34m(\u001b[0m\u001b[0mkey\u001b[0m\u001b[0;34m)\u001b[0m\u001b[0;34m\u001b[0m\u001b[0m\n\u001b[0m\u001b[1;32m   2060\u001b[0m \u001b[0;34m\u001b[0m\u001b[0m\n\u001b[1;32m   2061\u001b[0m     \u001b[0;32mdef\u001b[0m \u001b[0m_getitem_column\u001b[0m\u001b[0;34m(\u001b[0m\u001b[0mself\u001b[0m\u001b[0;34m,\u001b[0m \u001b[0mkey\u001b[0m\u001b[0;34m)\u001b[0m\u001b[0;34m:\u001b[0m\u001b[0;34m\u001b[0m\u001b[0m\n",
      "\u001b[0;32m/anaconda/lib/python2.7/site-packages/pandas/core/frame.pyc\u001b[0m in \u001b[0;36m_getitem_column\u001b[0;34m(self, key)\u001b[0m\n\u001b[1;32m   2064\u001b[0m         \u001b[0;31m# get column\u001b[0m\u001b[0;34m\u001b[0m\u001b[0;34m\u001b[0m\u001b[0m\n\u001b[1;32m   2065\u001b[0m         \u001b[0;32mif\u001b[0m \u001b[0mself\u001b[0m\u001b[0;34m.\u001b[0m\u001b[0mcolumns\u001b[0m\u001b[0;34m.\u001b[0m\u001b[0mis_unique\u001b[0m\u001b[0;34m:\u001b[0m\u001b[0;34m\u001b[0m\u001b[0m\n\u001b[0;32m-> 2066\u001b[0;31m             \u001b[0;32mreturn\u001b[0m \u001b[0mself\u001b[0m\u001b[0;34m.\u001b[0m\u001b[0m_get_item_cache\u001b[0m\u001b[0;34m(\u001b[0m\u001b[0mkey\u001b[0m\u001b[0;34m)\u001b[0m\u001b[0;34m\u001b[0m\u001b[0m\n\u001b[0m\u001b[1;32m   2067\u001b[0m \u001b[0;34m\u001b[0m\u001b[0m\n\u001b[1;32m   2068\u001b[0m         \u001b[0;31m# duplicate columns & possible reduce dimensionality\u001b[0m\u001b[0;34m\u001b[0m\u001b[0;34m\u001b[0m\u001b[0m\n",
      "\u001b[0;32m/anaconda/lib/python2.7/site-packages/pandas/core/generic.pyc\u001b[0m in \u001b[0;36m_get_item_cache\u001b[0;34m(self, item)\u001b[0m\n\u001b[1;32m   1384\u001b[0m         \u001b[0mres\u001b[0m \u001b[0;34m=\u001b[0m \u001b[0mcache\u001b[0m\u001b[0;34m.\u001b[0m\u001b[0mget\u001b[0m\u001b[0;34m(\u001b[0m\u001b[0mitem\u001b[0m\u001b[0;34m)\u001b[0m\u001b[0;34m\u001b[0m\u001b[0m\n\u001b[1;32m   1385\u001b[0m         \u001b[0;32mif\u001b[0m \u001b[0mres\u001b[0m \u001b[0;32mis\u001b[0m \u001b[0mNone\u001b[0m\u001b[0;34m:\u001b[0m\u001b[0;34m\u001b[0m\u001b[0m\n\u001b[0;32m-> 1386\u001b[0;31m             \u001b[0mvalues\u001b[0m \u001b[0;34m=\u001b[0m \u001b[0mself\u001b[0m\u001b[0;34m.\u001b[0m\u001b[0m_data\u001b[0m\u001b[0;34m.\u001b[0m\u001b[0mget\u001b[0m\u001b[0;34m(\u001b[0m\u001b[0mitem\u001b[0m\u001b[0;34m)\u001b[0m\u001b[0;34m\u001b[0m\u001b[0m\n\u001b[0m\u001b[1;32m   1387\u001b[0m             \u001b[0mres\u001b[0m \u001b[0;34m=\u001b[0m \u001b[0mself\u001b[0m\u001b[0;34m.\u001b[0m\u001b[0m_box_item_values\u001b[0m\u001b[0;34m(\u001b[0m\u001b[0mitem\u001b[0m\u001b[0;34m,\u001b[0m \u001b[0mvalues\u001b[0m\u001b[0;34m)\u001b[0m\u001b[0;34m\u001b[0m\u001b[0m\n\u001b[1;32m   1388\u001b[0m             \u001b[0mcache\u001b[0m\u001b[0;34m[\u001b[0m\u001b[0mitem\u001b[0m\u001b[0;34m]\u001b[0m \u001b[0;34m=\u001b[0m \u001b[0mres\u001b[0m\u001b[0;34m\u001b[0m\u001b[0m\n",
      "\u001b[0;32m/anaconda/lib/python2.7/site-packages/pandas/core/internals.pyc\u001b[0m in \u001b[0;36mget\u001b[0;34m(self, item, fastpath)\u001b[0m\n\u001b[1;32m   3541\u001b[0m \u001b[0;34m\u001b[0m\u001b[0m\n\u001b[1;32m   3542\u001b[0m             \u001b[0;32mif\u001b[0m \u001b[0;32mnot\u001b[0m \u001b[0misnull\u001b[0m\u001b[0;34m(\u001b[0m\u001b[0mitem\u001b[0m\u001b[0;34m)\u001b[0m\u001b[0;34m:\u001b[0m\u001b[0;34m\u001b[0m\u001b[0m\n\u001b[0;32m-> 3543\u001b[0;31m                 \u001b[0mloc\u001b[0m \u001b[0;34m=\u001b[0m \u001b[0mself\u001b[0m\u001b[0;34m.\u001b[0m\u001b[0mitems\u001b[0m\u001b[0;34m.\u001b[0m\u001b[0mget_loc\u001b[0m\u001b[0;34m(\u001b[0m\u001b[0mitem\u001b[0m\u001b[0;34m)\u001b[0m\u001b[0;34m\u001b[0m\u001b[0m\n\u001b[0m\u001b[1;32m   3544\u001b[0m             \u001b[0;32melse\u001b[0m\u001b[0;34m:\u001b[0m\u001b[0;34m\u001b[0m\u001b[0m\n\u001b[1;32m   3545\u001b[0m                 \u001b[0mindexer\u001b[0m \u001b[0;34m=\u001b[0m \u001b[0mnp\u001b[0m\u001b[0;34m.\u001b[0m\u001b[0marange\u001b[0m\u001b[0;34m(\u001b[0m\u001b[0mlen\u001b[0m\u001b[0;34m(\u001b[0m\u001b[0mself\u001b[0m\u001b[0;34m.\u001b[0m\u001b[0mitems\u001b[0m\u001b[0;34m)\u001b[0m\u001b[0;34m)\u001b[0m\u001b[0;34m[\u001b[0m\u001b[0misnull\u001b[0m\u001b[0;34m(\u001b[0m\u001b[0mself\u001b[0m\u001b[0;34m.\u001b[0m\u001b[0mitems\u001b[0m\u001b[0;34m)\u001b[0m\u001b[0;34m]\u001b[0m\u001b[0;34m\u001b[0m\u001b[0m\n",
      "\u001b[0;32m/anaconda/lib/python2.7/site-packages/pandas/indexes/base.pyc\u001b[0m in \u001b[0;36mget_loc\u001b[0;34m(self, key, method, tolerance)\u001b[0m\n\u001b[1;32m   2134\u001b[0m                 \u001b[0;32mreturn\u001b[0m \u001b[0mself\u001b[0m\u001b[0;34m.\u001b[0m\u001b[0m_engine\u001b[0m\u001b[0;34m.\u001b[0m\u001b[0mget_loc\u001b[0m\u001b[0;34m(\u001b[0m\u001b[0mkey\u001b[0m\u001b[0;34m)\u001b[0m\u001b[0;34m\u001b[0m\u001b[0m\n\u001b[1;32m   2135\u001b[0m             \u001b[0;32mexcept\u001b[0m \u001b[0mKeyError\u001b[0m\u001b[0;34m:\u001b[0m\u001b[0;34m\u001b[0m\u001b[0m\n\u001b[0;32m-> 2136\u001b[0;31m                 \u001b[0;32mreturn\u001b[0m \u001b[0mself\u001b[0m\u001b[0;34m.\u001b[0m\u001b[0m_engine\u001b[0m\u001b[0;34m.\u001b[0m\u001b[0mget_loc\u001b[0m\u001b[0;34m(\u001b[0m\u001b[0mself\u001b[0m\u001b[0;34m.\u001b[0m\u001b[0m_maybe_cast_indexer\u001b[0m\u001b[0;34m(\u001b[0m\u001b[0mkey\u001b[0m\u001b[0;34m)\u001b[0m\u001b[0;34m)\u001b[0m\u001b[0;34m\u001b[0m\u001b[0m\n\u001b[0m\u001b[1;32m   2137\u001b[0m \u001b[0;34m\u001b[0m\u001b[0m\n\u001b[1;32m   2138\u001b[0m         \u001b[0mindexer\u001b[0m \u001b[0;34m=\u001b[0m \u001b[0mself\u001b[0m\u001b[0;34m.\u001b[0m\u001b[0mget_indexer\u001b[0m\u001b[0;34m(\u001b[0m\u001b[0;34m[\u001b[0m\u001b[0mkey\u001b[0m\u001b[0;34m]\u001b[0m\u001b[0;34m,\u001b[0m \u001b[0mmethod\u001b[0m\u001b[0;34m=\u001b[0m\u001b[0mmethod\u001b[0m\u001b[0;34m,\u001b[0m \u001b[0mtolerance\u001b[0m\u001b[0;34m=\u001b[0m\u001b[0mtolerance\u001b[0m\u001b[0;34m)\u001b[0m\u001b[0;34m\u001b[0m\u001b[0m\n",
      "\u001b[0;32mpandas/index.pyx\u001b[0m in \u001b[0;36mpandas.index.IndexEngine.get_loc (pandas/index.c:4433)\u001b[0;34m()\u001b[0m\n",
      "\u001b[0;32mpandas/index.pyx\u001b[0m in \u001b[0;36mpandas.index.IndexEngine.get_loc (pandas/index.c:4279)\u001b[0;34m()\u001b[0m\n",
      "\u001b[0;32mpandas/src/hashtable_class_helper.pxi\u001b[0m in \u001b[0;36mpandas.hashtable.PyObjectHashTable.get_item (pandas/hashtable.c:13742)\u001b[0;34m()\u001b[0m\n",
      "\u001b[0;32mpandas/src/hashtable_class_helper.pxi\u001b[0m in \u001b[0;36mpandas.hashtable.PyObjectHashTable.get_item (pandas/hashtable.c:13696)\u001b[0;34m()\u001b[0m\n",
      "\u001b[0;31mKeyError\u001b[0m: 'numDays_Cont_Activity_tot'"
     ]
    }
   ],
   "source": [
    "print data['numDays_Cont_Activity_tot'].isnull().sum()"
   ]
  },
  {
   "cell_type": "code",
   "execution_count": 9,
   "metadata": {
    "collapsed": false
   },
   "outputs": [
    {
     "data": {
      "text/plain": [
       "Index([u'stfips', u'county_name', u'state', u'fips', u'cat_rucc', u'a_teca_ln',\n",
       "       u'a_112tca_ln', u'a_dbcp_ln', u'a_tdi_ln', u'a_2clacephen_ln',\n",
       "       ...\n",
       "       u'med_hh_value', u'med_hh_inc', u'pct_pers_lt_pov', u'pct_no_eng',\n",
       "       u'pct_hs_more', u'pct_unemp', u'med_rooms', u'work_out_co',\n",
       "       u'pct_mt_10units_log', u'violent_rate_log'],\n",
       "      dtype='object', length=227)"
      ]
     },
     "execution_count": 9,
     "metadata": {},
     "output_type": "execute_result"
    }
   ],
   "source": [
    "data.columns"
   ]
  },
  {
   "cell_type": "code",
   "execution_count": 10,
   "metadata": {
    "collapsed": false
   },
   "outputs": [
    {
     "data": {
      "text/plain": [
       "0       10.9\n",
       "1       10.1\n",
       "2       26.8\n",
       "3       20.6\n",
       "4       11.7\n",
       "5       33.5\n",
       "6       24.6\n",
       "7       16.1\n",
       "8       17.0\n",
       "9       15.6\n",
       "10      15.7\n",
       "11      24.5\n",
       "12      22.6\n",
       "13      17.1\n",
       "14      13.9\n",
       "15      14.7\n",
       "16      14.0\n",
       "17      26.6\n",
       "18      14.9\n",
       "19      18.4\n",
       "20      22.1\n",
       "21      13.0\n",
       "22      15.1\n",
       "23      31.1\n",
       "24      15.4\n",
       "25      10.2\n",
       "26      20.9\n",
       "27      15.7\n",
       "28      17.3\n",
       "29      18.9\n",
       "        ... \n",
       "3111     9.9\n",
       "3112     3.6\n",
       "3113     2.7\n",
       "3114     6.8\n",
       "3115     9.1\n",
       "3116     6.7\n",
       "3117     6.5\n",
       "3118    21.0\n",
       "3119    14.1\n",
       "3120     7.6\n",
       "3121    12.9\n",
       "3122    11.6\n",
       "3123     9.1\n",
       "3124    17.6\n",
       "3125    13.9\n",
       "3126    10.6\n",
       "3127    10.1\n",
       "3128     9.1\n",
       "3129     9.0\n",
       "3130    11.8\n",
       "3131    13.4\n",
       "3132    12.7\n",
       "3133    11.7\n",
       "3134    10.7\n",
       "3135     9.7\n",
       "3136     7.8\n",
       "3137     6.0\n",
       "3138     9.9\n",
       "3139    14.1\n",
       "3140     9.9\n",
       "Name: pct_pers_lt_pov, dtype: float64"
      ]
     },
     "execution_count": 10,
     "metadata": {},
     "output_type": "execute_result"
    }
   ],
   "source": [
    "data[\"pct_pers_lt_pov\"]"
   ]
  },
  {
   "cell_type": "code",
   "execution_count": null,
   "metadata": {
    "collapsed": true
   },
   "outputs": [],
   "source": []
  }
 ],
 "metadata": {
  "kernelspec": {
   "display_name": "Python 2",
   "language": "python",
   "name": "python2"
  },
  "language_info": {
   "codemirror_mode": {
    "name": "ipython",
    "version": 2
   },
   "file_extension": ".py",
   "mimetype": "text/x-python",
   "name": "python",
   "nbconvert_exporter": "python",
   "pygments_lexer": "ipython2",
   "version": "2.7.13"
  }
 },
 "nbformat": 4,
 "nbformat_minor": 2
}
